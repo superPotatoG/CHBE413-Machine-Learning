{
 "cells": [
  {
   "cell_type": "code",
   "execution_count": null,
   "id": "ce7862db-bb97-4aef-8eeb-28ed315cf7e1",
   "metadata": {},
   "outputs": [],
   "source": [
    "import numpy as np\n",
    "import matplotlib.pyplot as plt"
   ]
  },
  {
   "cell_type": "code",
   "execution_count": 42,
   "id": "564d0072-dd69-417b-b0cb-0a9d133b4044",
   "metadata": {},
   "outputs": [
    {
     "name": "stdout",
     "output_type": "stream",
     "text": [
      "Skipping line due to invalid molecular weight: 120\tIodine\t 126.90 g/mol\tI\n"
     ]
    }
   ],
   "source": [
    "def ReadToDict(filename):\n",
    "    MWDict = {}\n",
    "    FormulaDict = {}\n",
    "    \n",
    "    with open(filename, 'r') as file:\n",
    "        for line in file:\n",
    "            parts = line.strip().split('\\t') \n",
    "            \n",
    "            # Ensure we have at least 4 parts (index, name, molecular weight, formula)\n",
    "            if len(parts) < 4:\n",
    "                print(f\"Skipping line due to incorrect format: {line.strip()}\") # f\" \" helps us express the {line.strip()} as placeholders for expressions\n",
    "                continue\n",
    "            \n",
    "            name = parts[1]\n",
    "            mw_str = parts[2].split(' ')[0]  # Extract numerical part of molecular weight\n",
    "            \n",
    "            try:\n",
    "                mw = float(mw_str)  # Convert to float\n",
    "            except ValueError:\n",
    "                print(f\"Skipping line due to invalid molecular weight: {line.strip()}\")\n",
    "                continue\n",
    "            \n",
    "            formula = parts[3]\n",
    "            \n",
    "            MWDict[name] = mw\n",
    "            FormulaDict[name] = formula\n",
    "    \n",
    "    return [MWDict, FormulaDict]\n",
    "\n",
    "MWDict, FormulaDict = ReadToDict('ChemicalNames.txt')\n"
   ]
  },
  {
   "cell_type": "code",
   "execution_count": 43,
   "id": "03375e73-ac9e-46fc-b821-34bb44117c4c",
   "metadata": {},
   "outputs": [],
   "source": [
    "def ConvertMW(mw):\n",
    "    return mw / 1000  # Convert g/mol to kDa\n",
    "\n",
    "def ConvertAndWriteToFile(MWDict, filename):\n",
    "    with open(filename, 'w') as file:\n",
    "        for name, mw in MWDict.items():\n",
    "            kDa_mw = ConvertMW(mw)\n",
    "            file.write(f'{name}\\t{kDa_mw:.4f} kDa\\n') #write the new lines, and .4f ensures we have 4 decimals\n",
    "\n",
    "ConvertAndWriteToFile(MWDict, 'ChemicalNames_kDa.txt')\n"
   ]
  },
  {
   "cell_type": "code",
   "execution_count": 44,
   "id": "afffec31-dafc-4806-bc8e-e7565c3308f2",
   "metadata": {},
   "outputs": [],
   "source": [
    "def FilterSulfurAcids(FormulaDict):\n",
    "    SulfurAcids = {}\n",
    "    for name, formula in FormulaDict.items():\n",
    "        if 'S' in formula:\n",
    "            SulfurAcids[name] = formula\n",
    "    return SulfurAcids\n",
    "\n",
    "def WriteSulfurAcidsToFile(SulfurAcids, MWDict, filename):\n",
    "    with open(filename, 'w') as file:\n",
    "        for name in SulfurAcids:\n",
    "            kDa_mw = ConvertMW(MWDict[name])\n",
    "            file.write(f'{name}\\t{kDa_mw:.4f} kDa\\t{SulfurAcids[name]}\\n')\n",
    "\n",
    "# Filter and write sulfur-containing acids\n",
    "SulfurAcids = FilterSulfurAcids(FormulaDict)\n",
    "WriteSulfurAcidsToFile(SulfurAcids, MWDict, 'ChemicalNames_kDa_Sulfur_acids.txt')\n"
   ]
  },
  {
   "cell_type": "code",
   "execution_count": 45,
   "id": "3680718d-cd2d-40a6-bb5a-9e7acd305fb2",
   "metadata": {},
   "outputs": [
    {
     "name": "stdout",
     "output_type": "stream",
     "text": [
      "Mean molecular weight: 139.2342 g/mol\n",
      "Standard deviation: 81.1252 g/mol\n"
     ]
    }
   ],
   "source": [
    "def SulfurAcidsStats(SulfurAcids, MWDict):\n",
    "    weights = np.array([MWDict[name] for name in SulfurAcids.keys()])\n",
    "    mean_weight = np.mean(weights)\n",
    "    std_weight = np.std(weights)\n",
    "    return mean_weight, std_weight\n",
    "\n",
    "# Calculate sulfur acids's mean+sd\n",
    "mean_weight, std_weight = SulfurAcidsStats(SulfurAcids, MWDict)\n",
    "print(f'Mean molecular weight: {mean_weight:.4f} g/mol')\n",
    "print(f'Standard deviation: {std_weight:.4f} g/mol')\n"
   ]
  },
  {
   "cell_type": "code",
   "execution_count": 46,
   "id": "dcfb961e-29e5-4816-9a72-2cba82a09bd4",
   "metadata": {},
   "outputs": [
    {
     "data": {
      "image/png": "[encoded data removed]",
      "text/plain": [
       "<Figure size 640x480 with 1 Axes>"
      ]
     },
     "metadata": {},
     "output_type": "display_data"
    }
   ],
   "source": [
    "def PlotMolecularWeightHistogram(MWDict):\n",
    "    weights = [ConvertMW(mw) for mw in MWDict.values()]  # Convert to kDa\n",
    "    \n",
    "    plt.hist(weights, bins=20, color='skyblue', edgecolor='black')\n",
    "    plt.title('Histogram of Molecular Weights in kDa')\n",
    "    plt.xlabel('Molecular Weight (kDa)')\n",
    "    plt.ylabel('Frequency')\n",
    "    plt.legend(['Molecular Weights'])\n",
    "    plt.show()\n",
    "\n",
    "# Plot the histogram\n",
    "PlotMolecularWeightHistogram(MWDict)\n"
   ]
  },
  {
   "cell_type": "code",
   "execution_count": null,
   "id": "3fa1a0c7-d220-4626-9433-7480ce8f5a51",
   "metadata": {},
   "outputs": [],
   "source": []
  }
 ],
 "metadata": {
  "kernelspec": {
   "display_name": "Python 3 (ipykernel)",
   "language": "python",
   "name": "python3"
  },
  "language_info": {
   "codemirror_mode": {
    "name": "ipython",
    "version": 3
   },
   "file_extension": ".py",
   "mimetype": "text/x-python",
   "name": "python",
   "nbconvert_exporter": "python",
   "pygments_lexer": "ipython3",
   "version": "3.12.1"
  }
 },
 "nbformat": 4,
 "nbformat_minor": 5
}
